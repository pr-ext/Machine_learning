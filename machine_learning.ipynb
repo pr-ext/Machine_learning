{
  "nbformat": 4,
  "nbformat_minor": 0,
  "metadata": {
    "colab": {
      "provenance": [],
      "authorship_tag": "ABX9TyOAgsLPQ5QyW1oAyWq+Fh4w",
      "include_colab_link": true
    },
    "kernelspec": {
      "name": "python3",
      "display_name": "Python 3"
    },
    "language_info": {
      "name": "python"
    }
  },
  "cells": [
    {
      "cell_type": "markdown",
      "metadata": {
        "id": "view-in-github",
        "colab_type": "text"
      },
      "source": [
        "<a href=\"https://colab.research.google.com/github/pr-ext/Machine_learning/blob/main/machine_learning.ipynb\" target=\"_parent\"><img src=\"https://colab.research.google.com/assets/colab-badge.svg\" alt=\"Open In Colab\"/></a>"
      ]
    },
    {
      "cell_type": "code",
      "execution_count": 3,
      "metadata": {
        "id": "QOsnjudCzUWe"
      },
      "outputs": [],
      "source": [
        "import numpy as np\n",
        "import pandas as pd"
      ]
    },
    {
      "cell_type": "code",
      "source": [
        "data=pd.read_csv('labdata.csv')"
      ],
      "metadata": {
        "id": "HSqwWbNdAfbf"
      },
      "execution_count": null,
      "outputs": []
    },
    {
      "cell_type": "code",
      "source": [
        "matrix_a = data.iloc[:,1:4].to_numpy()\n",
        "matrix_c = data.iloc[:,4:5].to_numpy()\n",
        "print(\"the matrix a is \\n\",matrix_a)\n",
        "print(\"the matrix c is \\n\",matrix_c)"
      ],
      "metadata": {
        "colab": {
          "base_uri": "https://localhost:8080/"
        },
        "id": "f-IeCT-eCtL4",
        "outputId": "cc2f5b39-bbe9-4e01-9cfe-68eec6429390"
      },
      "execution_count": null,
      "outputs": [
        {
          "output_type": "stream",
          "name": "stdout",
          "text": [
            "the matrix a is \n",
            " [[20  6  2]\n",
            " [16  3  6]\n",
            " [27  6  2]\n",
            " [19  1  2]\n",
            " [24  4  2]\n",
            " [22  1  5]\n",
            " [15  4  2]\n",
            " [18  4  2]\n",
            " [21  1  4]\n",
            " [16  2  4]]\n",
            "the matrix c is \n",
            " [[386]\n",
            " [289]\n",
            " [393]\n",
            " [110]\n",
            " [280]\n",
            " [167]\n",
            " [271]\n",
            " [274]\n",
            " [148]\n",
            " [198]]\n"
          ]
        }
      ]
    },
    {
      "cell_type": "code",
      "source": [
        "dim = data.shape[1]\n",
        "print(\"the dimensionality of the vector space for this data is\",dim)\n",
        "# no of columns"
      ],
      "metadata": {
        "colab": {
          "base_uri": "https://localhost:8080/"
        },
        "id": "cI25xMQRByEl",
        "outputId": "72fe0129-2564-42d3-90c4-bd0460c9e668"
      },
      "execution_count": null,
      "outputs": [
        {
          "output_type": "stream",
          "name": "stdout",
          "text": [
            "the dimensionality of the vector space for this data is 22\n"
          ]
        }
      ]
    },
    {
      "cell_type": "code",
      "source": [
        "vec = data.shape[0]\n",
        "print(\"the number of vectors exist in this vector space is \",vec)\n",
        "# no of rows"
      ],
      "metadata": {
        "colab": {
          "base_uri": "https://localhost:8080/"
        },
        "id": "rjDDPTmHB_qw",
        "outputId": "f1565809-9df9-4bc3-a0d4-a99c0cb0ceb1"
      },
      "execution_count": null,
      "outputs": [
        {
          "output_type": "stream",
          "name": "stdout",
          "text": [
            "the number of vectors exist in this vector space is  10\n"
          ]
        }
      ]
    },
    {
      "cell_type": "code",
      "source": [
        "rank = np.linalg.matrix_rank(matrix_a)\n",
        "print(\"the rank of the matrix is\", rank)"
      ],
      "metadata": {
        "colab": {
          "base_uri": "https://localhost:8080/"
        },
        "id": "6si5rdMBCXfM",
        "outputId": "f06b4e5f-3f92-400c-cfe0-d6d4ddff8535"
      },
      "execution_count": null,
      "outputs": [
        {
          "output_type": "stream",
          "name": "stdout",
          "text": [
            "the rank of the matrix is 3\n"
          ]
        }
      ]
    },
    {
      "cell_type": "code",
      "source": [
        "pseudo_inverse = np.linalg.pinv(matrix_a)\n",
        "cost = np.dot(pseudo_inverse, matrix_c)\n",
        "print(\"the cost of each product is \\n\", cost)"
      ],
      "metadata": {
        "colab": {
          "base_uri": "https://localhost:8080/"
        },
        "id": "sfxwfz4v0Bcr",
        "outputId": "7ae47519-af52-4a2f-fd75-d931e02b00fb"
      },
      "execution_count": null,
      "outputs": [
        {
          "output_type": "stream",
          "name": "stdout",
          "text": [
            "the cost of each product is \n",
            " [[ 1.]\n",
            " [55.]\n",
            " [18.]]\n"
          ]
        }
      ]
    },
    {
      "cell_type": "code",
      "source": [
        "pseudo_inverse = np.linalg.pinv(matrix_a)\n",
        "model_vector = np.dot(pseudo_inverse, matrix_c)\n",
        "print(\"The model vector X for predicting the cost of the products is:\")\n",
        "print(model_vector)"
      ],
      "metadata": {
        "colab": {
          "base_uri": "https://localhost:8080/"
        },
        "id": "zpT_JEwe0gbf",
        "outputId": "83cc4a64-bba3-4b06-9464-c355bc92b52e"
      },
      "execution_count": null,
      "outputs": [
        {
          "output_type": "stream",
          "name": "stdout",
          "text": [
            "The model vector X for predicting the cost of the products is:\n",
            "[[ 1.]\n",
            " [55.]\n",
            " [18.]]\n"
          ]
        }
      ]
    },
    {
      "cell_type": "code",
      "source": [
        "data['Purchase behaviour'] = ''\n",
        "print(data)"
      ],
      "metadata": {
        "colab": {
          "base_uri": "https://localhost:8080/"
        },
        "id": "H-KhV0W13YsG",
        "outputId": "f7e309ba-0a7e-4a0c-8703-55d2e4831bfd"
      },
      "execution_count": null,
      "outputs": [
        {
          "output_type": "stream",
          "name": "stdout",
          "text": [
            "  Customer  Candies (#)  Mangoes (Kg)  Milk Packets (#)  Payment (Rs)  \\\n",
            "0      C_1           20             6                 2           386   \n",
            "1      C_2           16             3                 6           289   \n",
            "2      C_3           27             6                 2           393   \n",
            "3      C_4           19             1                 2           110   \n",
            "4      C_5           24             4                 2           280   \n",
            "5      C_6           22             1                 5           167   \n",
            "6      C_7           15             4                 2           271   \n",
            "7      C_8           18             4                 2           274   \n",
            "8      C_9           21             1                 4           148   \n",
            "9     C_10           16             2                 4           198   \n",
            "\n",
            "  Purchase behaviour  \n",
            "0                     \n",
            "1                     \n",
            "2                     \n",
            "3                     \n",
            "4                     \n",
            "5                     \n",
            "6                     \n",
            "7                     \n",
            "8                     \n",
            "9                     \n"
          ]
        }
      ]
    },
    {
      "cell_type": "code",
      "source": [
        "data['Purchase behaviour'] = np.where(data['Payment (Rs)'] > 200, 'RICH', 'POOR')\n",
        "print(data)"
      ],
      "metadata": {
        "colab": {
          "base_uri": "https://localhost:8080/"
        },
        "id": "7xSkfxFN5FTl",
        "outputId": "d0105005-2c0b-48bd-dcf9-484c2b5ff789"
      },
      "execution_count": null,
      "outputs": [
        {
          "output_type": "stream",
          "name": "stdout",
          "text": [
            "  Customer  Candies (#)  Mangoes (Kg)  Milk Packets (#)  Payment (Rs)  \\\n",
            "0      C_1           20             6                 2           386   \n",
            "1      C_2           16             3                 6           289   \n",
            "2      C_3           27             6                 2           393   \n",
            "3      C_4           19             1                 2           110   \n",
            "4      C_5           24             4                 2           280   \n",
            "5      C_6           22             1                 5           167   \n",
            "6      C_7           15             4                 2           271   \n",
            "7      C_8           18             4                 2           274   \n",
            "8      C_9           21             1                 4           148   \n",
            "9     C_10           16             2                 4           198   \n",
            "\n",
            "  Purchase behaviour  \n",
            "0               RICH  \n",
            "1               RICH  \n",
            "2               RICH  \n",
            "3               POOR  \n",
            "4               RICH  \n",
            "5               POOR  \n",
            "6               RICH  \n",
            "7               RICH  \n",
            "8               POOR  \n",
            "9               POOR  \n"
          ]
        }
      ]
    },
    {
      "cell_type": "code",
      "source": [
        "data2=pd.read_csv('labdata2.csv')"
      ],
      "metadata": {
        "id": "Hq-I4jxi8mRx"
      },
      "execution_count": 8,
      "outputs": []
    },
    {
      "cell_type": "code",
      "source": [
        "print(data2)"
      ],
      "metadata": {
        "colab": {
          "base_uri": "https://localhost:8080/"
        },
        "id": "pbDzHstG8snZ",
        "outputId": "22239899-36b4-45ae-a0d3-bac7673481bb"
      },
      "execution_count": 9,
      "outputs": [
        {
          "output_type": "stream",
          "name": "stdout",
          "text": [
            "             Date Month  Day    Price     Open     High      Low   Volume  \\\n",
            "0    Jun 29, 2021   Jun  Tue  2081.85  2092.00  2126.90  2065.05    1.67M   \n",
            "1    Jun 28, 2021   Jun  Mon  2077.75  2084.00  2112.45  2068.40  707.73K   \n",
            "2    Jun 25, 2021   Jun  Fri  2068.85  2084.35  2088.50  2053.10  475.82K   \n",
            "3    Jun 24, 2021   Jun  Thu  2072.95  2098.00  2098.00  2066.00  541.51K   \n",
            "4    Jun 23, 2021   Jun  Wed  2078.25  2102.00  2111.40  2072.00  809.62K   \n",
            "..            ...   ...  ...      ...      ...      ...      ...      ...   \n",
            "244  Jul 07, 2020   Jul  Tue  1397.40  1410.00  1411.00  1390.05  480.21K   \n",
            "245  Jul 06, 2020   Jul  Mon  1400.75  1405.50  1415.50  1394.00  614.93K   \n",
            "246  Jul 03, 2020   Jul  Fri  1405.10  1415.00  1425.00  1398.00  599.49K   \n",
            "247  Jul 02, 2020   Jul  Thu  1412.35  1440.00  1467.80  1395.30    2.16M   \n",
            "248  Jul 01, 2020   Jul  Wed  1363.05  1363.65  1377.00  1356.00  383.00K   \n",
            "\n",
            "       Chg%  \n",
            "0    0.0020  \n",
            "1    0.0043  \n",
            "2   -0.0020  \n",
            "3   -0.0026  \n",
            "4   -0.0023  \n",
            "..      ...  \n",
            "244 -0.0024  \n",
            "245 -0.0031  \n",
            "246 -0.0051  \n",
            "247  0.0362  \n",
            "248  0.0032  \n",
            "\n",
            "[249 rows x 9 columns]\n"
          ]
        }
      ]
    },
    {
      "cell_type": "code",
      "source": [
        "import statistics as s\n",
        "import matplotlib.pyplot as plt"
      ],
      "metadata": {
        "id": "Y9GwGIA7_vTj"
      },
      "execution_count": 24,
      "outputs": []
    },
    {
      "cell_type": "code",
      "source": [
        "price_mean = data2['Price'].mean()\n",
        "price_var = data2['Price'].var()\n",
        "print(\"the mean of the price data is \",price_mean)\n",
        "print(\"the variance of the price data is \",price_var)"
      ],
      "metadata": {
        "colab": {
          "base_uri": "https://localhost:8080/"
        },
        "id": "rRT5YDg2-MOO",
        "outputId": "4d3cb87b-67c9-46d2-b421-e92fb8e7aaaa"
      },
      "execution_count": 14,
      "outputs": [
        {
          "output_type": "stream",
          "name": "stdout",
          "text": [
            "the mean of the price data is  1560.6634538152612\n",
            "the variance of the price data is  58732.36535253918\n"
          ]
        }
      ]
    },
    {
      "cell_type": "code",
      "source": [
        "wed_data= data2[data2['Day']=='Wed']\n",
        "Wed_mean=s.mean(wed_data['Price'])\n",
        "print(\"The sample mean of the Price data for Wednesdays is:\", Wed_mean)\n",
        "print(\"the difference in mean is\",price_mean-Wed_mean)"
      ],
      "metadata": {
        "colab": {
          "base_uri": "https://localhost:8080/"
        },
        "id": "8DBnpkoJZdtW",
        "outputId": "0e22ea40-73e5-4de9-974e-51456c9e02d8"
      },
      "execution_count": 16,
      "outputs": [
        {
          "output_type": "stream",
          "name": "stdout",
          "text": [
            "The sample mean of the Price data for Wednesdays is: 1550.706\n",
            "the difference in mean is 9.95745381526126\n"
          ]
        }
      ]
    },
    {
      "cell_type": "code",
      "source": [
        "apr_data= data2[data2['Month']=='Apr']\n",
        "apr_mean=s.mean(apr_data['Price'])\n",
        "print(\"The sample mean of the Price data for April is:\", apr_mean)\n",
        "print(\"the difference in mean is\",price_mean-apr_mean)"
      ],
      "metadata": {
        "colab": {
          "base_uri": "https://localhost:8080/"
        },
        "id": "NRbxprP4_g5n",
        "outputId": "5fb4441c-c006-4398-d851-58bfd18d896c"
      },
      "execution_count": 17,
      "outputs": [
        {
          "output_type": "stream",
          "name": "stdout",
          "text": [
            "The sample mean of the Price data for April is: 1698.9526315789474\n",
            "the difference in mean is -138.2891777636862\n"
          ]
        }
      ]
    },
    {
      "cell_type": "code",
      "source": [
        "negatives = data2['Chg%'].apply(lambda x: x < 0)\n",
        "probability = negatives.sum() / len(data2)\n",
        "print(\"The probability of making a loss over the stock is:\", probability)"
      ],
      "metadata": {
        "colab": {
          "base_uri": "https://localhost:8080/"
        },
        "id": "I2rpChlRdwvk",
        "outputId": "14a9b188-04a2-47d3-a3e4-1546e2413fb6"
      },
      "execution_count": 11,
      "outputs": [
        {
          "output_type": "stream",
          "name": "stdout",
          "text": [
            "The probability of making a loss over the stock is: 0.4979919678714859\n"
          ]
        }
      ]
    },
    {
      "cell_type": "code",
      "source": [
        "total_wed=len(wed_data)\n",
        "profit=len(wed_data[wed_data['Chg%']>0])\n",
        "prob=profit/total_wed\n",
        "print(\"The probability of making a profit on Wednesday is:\", prob)"
      ],
      "metadata": {
        "colab": {
          "base_uri": "https://localhost:8080/"
        },
        "id": "NRnj9Lb_d9Qw",
        "outputId": "8f4821f5-6025-4a51-ae4e-a307d7b751e4"
      },
      "execution_count": 20,
      "outputs": [
        {
          "output_type": "stream",
          "name": "stdout",
          "text": [
            "The probability of making a profit on Wednesday is: 0.42\n"
          ]
        }
      ]
    },
    {
      "cell_type": "code",
      "source": [
        "prob_wed = len(data2[data2['Day'] == 'Wed']) / len(data2)\n",
        "conditional_prblty = profit / len(wed_data)\n",
        "print(\"The conditional probability of making a profit on Wednesday is:\", conditional_prblty)"
      ],
      "metadata": {
        "colab": {
          "base_uri": "https://localhost:8080/"
        },
        "id": "vcmqtJh3hbe6",
        "outputId": "0dd4d440-2f55-4627-f60d-b4bef0f4796a"
      },
      "execution_count": 22,
      "outputs": [
        {
          "output_type": "stream",
          "name": "stdout",
          "text": [
            "The conditional probability of making a profit on Wednesday is: 0.42\n"
          ]
        }
      ]
    },
    {
      "cell_type": "code",
      "source": [
        "plt.scatter(data2['Day'],data2['Chg%'])\n",
        "plt.xlabel('Day of the Week')\n",
        "plt.ylabel('Mean Chg%')\n",
        "plt.title('Scatter Plot of Chg% Data Against Day of the Week')\n",
        "plt.show()"
      ],
      "metadata": {
        "colab": {
          "base_uri": "https://localhost:8080/",
          "height": 472
        },
        "id": "A3fYu4-xj902",
        "outputId": "7753c813-d0c1-4783-ceb0-6bde31a0043b"
      },
      "execution_count": 29,
      "outputs": [
        {
          "output_type": "display_data",
          "data": {
            "text/plain": [
              "<Figure size 640x480 with 1 Axes>"
            ],
            "image/png": "[encoded data removed]"
          },
          "metadata": {}
        }
      ]
    }
  ]
}